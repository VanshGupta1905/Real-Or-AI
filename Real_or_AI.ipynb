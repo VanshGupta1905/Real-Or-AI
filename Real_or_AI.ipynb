{
  "cells": [
    {
      "cell_type": "code",
      "execution_count": null,
      "metadata": {
        "id": "YUwyUE0rSzrK"
      },
      "outputs": [],
      "source": [
        "train_dir=\"/content/Data/Train\"\n",
        "test_dir=\"/content/Data/Test\""
      ]
    },
    {
      "cell_type": "code",
      "source": [
        "from google.colab import drive\n",
        "drive.mount('/content/drive')"
      ],
      "metadata": {
        "colab": {
          "base_uri": "https://localhost:8080/"
        },
        "id": "FhuQX4Dzdj0F",
        "outputId": "00af0bb0-fda9-4118-a474-dddefff5fc31"
      },
      "execution_count": null,
      "outputs": [
        {
          "output_type": "stream",
          "name": "stdout",
          "text": [
            "Mounted at /content/drive\n"
          ]
        }
      ]
    },
    {
      "cell_type": "code",
      "execution_count": null,
      "metadata": {
        "id": "N5Yc0g_qT0Zi"
      },
      "outputs": [],
      "source": [
        "from helper_functions import plot_loss_curves,unzip_data,walk_through_dir,compare_historys"
      ]
    },
    {
      "cell_type": "code",
      "execution_count": null,
      "metadata": {
        "id": "UqG3EiL3Ulbg"
      },
      "outputs": [],
      "source": [
        "unzip_data(\"/content/drive/MyDrive/Data-20240304T162637Z-001.zip\")\n"
      ]
    },
    {
      "cell_type": "code",
      "source": [
        "walk_through_dir(\"/content/Data\")\n",
        "class_names="
      ],
      "metadata": {
        "colab": {
          "base_uri": "https://localhost:8080/"
        },
        "id": "RKT7sBsGez0G",
        "outputId": "900b1599-dee2-4963-ec1b-091a3c069c1b"
      },
      "execution_count": null,
      "outputs": [
        {
          "output_type": "stream",
          "name": "stdout",
          "text": [
            "There are 2 directories and 0 images in '/content/Data'.\n",
            "There are 2 directories and 0 images in '/content/Data/Test'.\n",
            "There are 0 directories and 42 images in '/content/Data/Test/Real'.\n",
            "There are 0 directories and 42 images in '/content/Data/Test/AI'.\n",
            "There are 2 directories and 0 images in '/content/Data/Train'.\n",
            "There are 0 directories and 394 images in '/content/Data/Train/Real'.\n",
            "There are 0 directories and 497 images in '/content/Data/Train/AI'.\n"
          ]
        }
      ]
    },
    {
      "cell_type": "code",
      "execution_count": null,
      "metadata": {
        "id": "AwlPHsF0Uom-"
      },
      "outputs": [],
      "source": [
        "import tensorflow as tf"
      ]
    },
    {
      "cell_type": "code",
      "execution_count": null,
      "metadata": {
        "colab": {
          "base_uri": "https://localhost:8080/"
        },
        "id": "l29olgYEVQe6",
        "outputId": "25841b59-bd79-4651-a8b7-659334b6bf64"
      },
      "outputs": [
        {
          "output_type": "stream",
          "name": "stdout",
          "text": [
            "Found 888 files belonging to 2 classes.\n",
            "Found 84 files belonging to 2 classes.\n"
          ]
        }
      ],
      "source": [
        "from tensorflow.keras.utils import image_dataset_from_directory\n",
        "train_ds=image_dataset_from_directory(train_dir,\n",
        "                                      label_mode='binary',\n",
        "                                      batch_size=32,\n",
        "                                      shuffle=True,\n",
        "                                      )\n",
        "\n",
        "test_ds=image_dataset_from_directory(test_dir,\n",
        "                                     label_mode='binary',\n",
        "                                     batch_size=32,\n",
        "                                     shuffle=True)"
      ]
    },
    {
      "cell_type": "code",
      "execution_count": null,
      "metadata": {
        "id": "30rNYTQhVb8u"
      },
      "outputs": [],
      "source": [
        "data_augmentation=tf.keras.Sequential([\n",
        "    tf.keras.layers.Resizing(256,256),\n",
        "    tf.keras.layers.Rescaling(1/255.),\n",
        "    tf.keras.layers.RandomTranslation(0.2,0.2)\n",
        "])"
      ]
    },
    {
      "cell_type": "code",
      "execution_count": null,
      "metadata": {
        "colab": {
          "base_uri": "https://localhost:8080/"
        },
        "id": "uy9cSuAIXzp_",
        "outputId": "c56379f3-e5a5-443a-e11a-c1479af91b16"
      },
      "outputs": [
        {
          "output_type": "stream",
          "name": "stdout",
          "text": [
            "Epoch 1/10\n",
            "28/28 [==============================] - 41s 930ms/step - loss: 2.0530 - accuracy: 0.5833 - val_loss: 1.4229 - val_accuracy: 0.5833\n",
            "Epoch 2/10\n",
            "28/28 [==============================] - 21s 529ms/step - loss: 1.3825 - accuracy: 0.6486 - val_loss: 1.1475 - val_accuracy: 0.6190\n",
            "Epoch 3/10\n",
            "28/28 [==============================] - 19s 532ms/step - loss: 1.0886 - accuracy: 0.6824 - val_loss: 0.9415 - val_accuracy: 0.6429\n",
            "Epoch 4/10\n",
            "28/28 [==============================] - 20s 527ms/step - loss: 0.8748 - accuracy: 0.7331 - val_loss: 0.7628 - val_accuracy: 0.6548\n",
            "Epoch 5/10\n",
            "28/28 [==============================] - 20s 531ms/step - loss: 0.7662 - accuracy: 0.7511 - val_loss: 0.8360 - val_accuracy: 0.6667\n",
            "Epoch 6/10\n",
            "28/28 [==============================] - 21s 553ms/step - loss: 0.6668 - accuracy: 0.7736 - val_loss: 0.6827 - val_accuracy: 0.7500\n",
            "Epoch 7/10\n",
            "28/28 [==============================] - 20s 517ms/step - loss: 0.5960 - accuracy: 0.7894 - val_loss: 0.7408 - val_accuracy: 0.7262\n",
            "Epoch 8/10\n",
            "28/28 [==============================] - 20s 537ms/step - loss: 0.5351 - accuracy: 0.7984 - val_loss: 0.6753 - val_accuracy: 0.7381\n",
            "Epoch 9/10\n",
            "28/28 [==============================] - 20s 523ms/step - loss: 0.4959 - accuracy: 0.8119 - val_loss: 0.7157 - val_accuracy: 0.7500\n",
            "Epoch 10/10\n",
            "28/28 [==============================] - 20s 534ms/step - loss: 0.4555 - accuracy: 0.8277 - val_loss: 0.6819 - val_accuracy: 0.7500\n"
          ]
        }
      ],
      "source": [
        "base_model=tf.keras.applications.vgg19.VGG19( include_top=False)\n",
        "base_model.trainable=False\n",
        "Input=tf.keras.layers.Input(shape=(256,256,3))\n",
        "x=data_augmentation(Input)\n",
        "x=base_model(Input,training=False)\n",
        "x=tf.keras.layers.GlobalAveragePooling2D()(x)\n",
        "Output=tf.keras.layers.Dense(1,activation='sigmoid')(x)\n",
        "model=tf.keras.Model(Input,Output)\n",
        "model.compile(loss='binary_crossentropy',\n",
        "              optimizer=tf.keras.optimizers.Adam(),\n",
        "              metrics=['accuracy'])\n",
        "history_1=model.fit(train_ds,\n",
        "                    epochs=10,\n",
        "                    steps_per_epoch=len(train_ds),\n",
        "                    validation_data=test_ds,\n",
        "                    validation_steps=len(test_ds))"
      ]
    },
    {
      "cell_type": "code",
      "source": [
        "model.summary()\n"
      ],
      "metadata": {
        "colab": {
          "base_uri": "https://localhost:8080/"
        },
        "id": "RUnMwut9jBnG",
        "outputId": "638d0865-2eee-4eaa-ac84-06b9b3dda410"
      },
      "execution_count": null,
      "outputs": [
        {
          "output_type": "stream",
          "name": "stdout",
          "text": [
            "Model: \"model\"\n",
            "_________________________________________________________________\n",
            " Layer (type)                Output Shape              Param #   \n",
            "=================================================================\n",
            " input_2 (InputLayer)        [(None, 256, 256, 3)]     0         \n",
            "                                                                 \n",
            " vgg19 (Functional)          (None, None, None, 512)   20024384  \n",
            "                                                                 \n",
            " global_average_pooling2d (  (None, 512)               0         \n",
            " GlobalAveragePooling2D)                                         \n",
            "                                                                 \n",
            " dense (Dense)               (None, 1)                 513       \n",
            "                                                                 \n",
            "=================================================================\n",
            "Total params: 20024897 (76.39 MB)\n",
            "Trainable params: 20024897 (76.39 MB)\n",
            "Non-trainable params: 0 (0.00 Byte)\n",
            "_________________________________________________________________\n"
          ]
        }
      ]
    },
    {
      "cell_type": "code",
      "source": [
        "model.layers[1].name"
      ],
      "metadata": {
        "colab": {
          "base_uri": "https://localhost:8080/",
          "height": 36
        },
        "id": "fJyFtdoPjG7Y",
        "outputId": "d32d997b-0409-4320-dd48-c6f53a9bff85"
      },
      "execution_count": null,
      "outputs": [
        {
          "output_type": "execute_result",
          "data": {
            "text/plain": [
              "'vgg19'"
            ],
            "application/vnd.google.colaboratory.intrinsic+json": {
              "type": "string"
            }
          },
          "metadata": {},
          "execution_count": 16
        }
      ]
    },
    {
      "cell_type": "code",
      "execution_count": null,
      "metadata": {
        "id": "nnlPf4PFYDZE"
      },
      "outputs": [],
      "source": [
        "base_model=model.layers[1]\n",
        "base_model.trainable=True\n",
        "for i,layer in enumerate(base_model.layers[:-7]):\n",
        "  layer.trainable=False\n"
      ]
    },
    {
      "cell_type": "code",
      "execution_count": null,
      "metadata": {
        "id": "GA-81rqYahWg",
        "colab": {
          "base_uri": "https://localhost:8080/"
        },
        "outputId": "48f9299f-26b3-4347-800b-b71ea3ee4777"
      },
      "outputs": [
        {
          "output_type": "stream",
          "name": "stdout",
          "text": [
            "Epoch 10/19\n",
            "28/28 [==============================] - 27s 634ms/step - loss: 1.0768 - accuracy: 0.6486 - val_loss: 0.5911 - val_accuracy: 0.7500\n",
            "Epoch 11/19\n",
            "28/28 [==============================] - 20s 555ms/step - loss: 0.5725 - accuracy: 0.6959 - val_loss: 0.5547 - val_accuracy: 0.7024\n",
            "Epoch 12/19\n",
            "28/28 [==============================] - 21s 552ms/step - loss: 0.4781 - accuracy: 0.7736 - val_loss: 0.5280 - val_accuracy: 0.7381\n",
            "Epoch 13/19\n",
            "28/28 [==============================] - 21s 554ms/step - loss: 0.3932 - accuracy: 0.8311 - val_loss: 0.5743 - val_accuracy: 0.7381\n",
            "Epoch 14/19\n",
            "28/28 [==============================] - 20s 552ms/step - loss: 0.3025 - accuracy: 0.8727 - val_loss: 0.7648 - val_accuracy: 0.6905\n",
            "Epoch 15/19\n",
            "28/28 [==============================] - 21s 555ms/step - loss: 0.3318 - accuracy: 0.8637 - val_loss: 0.5658 - val_accuracy: 0.7619\n",
            "Epoch 16/19\n",
            "28/28 [==============================] - 21s 579ms/step - loss: 0.2212 - accuracy: 0.9054 - val_loss: 0.6807 - val_accuracy: 0.7500\n",
            "Epoch 17/19\n",
            "28/28 [==============================] - 21s 525ms/step - loss: 0.1447 - accuracy: 0.9527 - val_loss: 0.4454 - val_accuracy: 0.8452\n",
            "Epoch 18/19\n",
            "28/28 [==============================] - 21s 563ms/step - loss: 0.0739 - accuracy: 0.9718 - val_loss: 0.7121 - val_accuracy: 0.8095\n",
            "Epoch 19/19\n",
            "28/28 [==============================] - 20s 559ms/step - loss: 0.0422 - accuracy: 0.9921 - val_loss: 0.6322 - val_accuracy: 0.8452\n"
          ]
        },
        {
          "output_type": "execute_result",
          "data": {
            "text/plain": [
              "<keras.src.callbacks.History at 0x7c92c774cbb0>"
            ]
          },
          "metadata": {},
          "execution_count": 18
        }
      ],
      "source": [
        "model.compile(loss='binary_crossentropy',\n",
        "              optimizer=tf.keras.optimizers.Adam( learning_rate=0.0001),\n",
        "              metrics=['accuracy'])\n",
        "model.fit(train_ds,\n",
        "          epochs=history_1.epoch[-1]+10,\n",
        "          steps_per_epoch=len(train_ds),\n",
        "          validation_data=test_ds,\n",
        "          validation_steps=len(test_ds),\n",
        "          initial_epoch=history_1.epoch[-1]\n",
        "          )"
      ]
    },
    {
      "cell_type": "code",
      "source": [
        "model.save('/content/drive/MyDrive/Models/VGG.h5')"
      ],
      "metadata": {
        "id": "HqYaeQT-hpew"
      },
      "execution_count": null,
      "outputs": []
    },
    {
      "cell_type": "code",
      "source": [
        "model_2=tf.keras.models.load_model('/content/drive/MyDrive/Models/VGG')"
      ],
      "metadata": {
        "id": "AJJRgB6skmih"
      },
      "execution_count": null,
      "outputs": []
    },
    {
      "cell_type": "code",
      "source": [
        "model_2.evaluate(test_ds)"
      ],
      "metadata": {
        "colab": {
          "base_uri": "https://localhost:8080/"
        },
        "id": "JcHuzcsdzFe_",
        "outputId": "42ec4c93-f014-45c2-d996-3510fcb31174"
      },
      "execution_count": null,
      "outputs": [
        {
          "output_type": "stream",
          "name": "stdout",
          "text": [
            "3/3 [==============================] - 75s 23s/step - loss: 0.6322 - accuracy: 0.8452\n"
          ]
        },
        {
          "output_type": "execute_result",
          "data": {
            "text/plain": [
              "[0.6321544647216797, 0.8452380895614624]"
            ]
          },
          "metadata": {},
          "execution_count": 12
        }
      ]
    },
    {
      "cell_type": "code",
      "source": [
        "model_2.summary()"
      ],
      "metadata": {
        "colab": {
          "base_uri": "https://localhost:8080/"
        },
        "id": "l-tjaiQoz7Nu",
        "outputId": "8030ab32-e6b4-4627-e883-c2018aeaa434"
      },
      "execution_count": null,
      "outputs": [
        {
          "output_type": "stream",
          "name": "stdout",
          "text": [
            "Model: \"model\"\n",
            "_________________________________________________________________\n",
            " Layer (type)                Output Shape              Param #   \n",
            "=================================================================\n",
            " input_2 (InputLayer)        [(None, 256, 256, 3)]     0         \n",
            "                                                                 \n",
            " vgg19 (Functional)          (None, None, None, 512)   20024384  \n",
            "                                                                 \n",
            " global_average_pooling2d (  (None, 512)               0         \n",
            " GlobalAveragePooling2D)                                         \n",
            "                                                                 \n",
            " dense (Dense)               (None, 1)                 513       \n",
            "                                                                 \n",
            "=================================================================\n",
            "Total params: 20024897 (76.39 MB)\n",
            "Trainable params: 11799553 (45.01 MB)\n",
            "Non-trainable params: 8225344 (31.38 MB)\n",
            "_________________________________________________________________\n"
          ]
        }
      ]
    },
    {
      "cell_type": "code",
      "source": [
        "import pathlib\n",
        "import numpy as np\n",
        "dir=pathlib.Path(train_dir)\n",
        "class_names=np.array(sorted([i.name for i in dir.glob('*')]))\n",
        "class_names"
      ],
      "metadata": {
        "colab": {
          "base_uri": "https://localhost:8080/"
        },
        "id": "o2_OCmPk4Zpp",
        "outputId": "3836a093-06b3-4818-c083-295c875a0a06"
      },
      "execution_count": null,
      "outputs": [
        {
          "output_type": "execute_result",
          "data": {
            "text/plain": [
              "array(['AI', 'Real'], dtype='<U4')"
            ]
          },
          "metadata": {},
          "execution_count": 57
        }
      ]
    },
    {
      "cell_type": "code",
      "source": [
        "img=tf.io.read_file(\"/.jpg\")\n",
        "img=tf.io.decode_image(img)\n",
        "img=tf.image.resize(img,[256,256])\n",
        "class_names[int(tf.squeeze(tf.round(model_2.predict(tf.expand_dims(img,axis=0)))).numpy())]"
      ],
      "metadata": {
        "colab": {
          "base_uri": "https://localhost:8080/",
          "height": 53
        },
        "id": "E8PIvVBC0NNm",
        "outputId": "7a66cb54-227f-41ef-edaf-514a254ee3ec"
      },
      "execution_count": null,
      "outputs": [
        {
          "output_type": "stream",
          "name": "stdout",
          "text": [
            "1/1 [==============================] - 1s 810ms/step\n"
          ]
        },
        {
          "output_type": "execute_result",
          "data": {
            "text/plain": [
              "'Real'"
            ],
            "application/vnd.google.colaboratory.intrinsic+json": {
              "type": "string"
            }
          },
          "metadata": {},
          "execution_count": 77
        }
      ]
    },
    {
      "cell_type": "code",
      "source": [],
      "metadata": {
        "id": "-ypH4pSO0yY2"
      },
      "execution_count": null,
      "outputs": []
    }
  ],
  "metadata": {
    "accelerator": "GPU",
    "colab": {
      "gpuType": "T4",
      "provenance": []
    },
    "kernelspec": {
      "display_name": "Python 3",
      "name": "python3"
    },
    "language_info": {
      "codemirror_mode": {
        "name": "ipython",
        "version": 3
      },
      "file_extension": ".py",
      "mimetype": "text/x-python",
      "name": "python",
      "nbconvert_exporter": "python",
      "pygments_lexer": "ipython3",
      "version": "3.10.1"
    }
  },
  "nbformat": 4,
  "nbformat_minor": 0
}